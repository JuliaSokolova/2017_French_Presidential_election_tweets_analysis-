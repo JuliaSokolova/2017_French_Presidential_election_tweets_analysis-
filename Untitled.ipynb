{
 "cells": [
  {
   "cell_type": "code",
   "execution_count": 1,
   "metadata": {},
   "outputs": [],
   "source": [
    "%matplotlib inline\n",
    "from collections import Counter\n",
    "from typing import Callable, List, Dict\n",
    "import math\n",
    "import matplotlib.pyplot as plt\n",
    "import numpy as np\n",
    "import pandas as pd\n",
    "from pyspark.sql.functions import udf\n",
    "from pyspark.sql.types import *\n",
    "from pyspark.sql import functions as F\n",
    "import pyspark as ps\n",
    "import json\n",
    "import requests\n",
    "import scipy.stats as stats\n",
    "\n",
    "# Always make it pretty.\n",
    "plt.style.use('ggplot')"
   ]
  },
  {
   "cell_type": "code",
   "execution_count": 2,
   "metadata": {},
   "outputs": [],
   "source": [
    "# Create spark session\n",
    "spark = (ps.sql.SparkSession\n",
    "         .builder\n",
    "         .master('local[4]')\n",
    "         .appName('julia_json')\n",
    "         .getOrCreate()\n",
    "        )\n",
    "sc = spark.sparkContext"
   ]
  },
  {
   "cell_type": "code",
   "execution_count": 26,
   "metadata": {},
   "outputs": [],
   "source": [
    "#make a failsafe decode to prevent errors.\n",
    "def failsafe_decode(row):\n",
    "    try:\n",
    "        return json.loads(row)\n",
    "    except:\n",
    "        return None\n"
   ]
  },
  {
   "cell_type": "code",
   "execution_count": 27,
   "metadata": {},
   "outputs": [
    {
     "data": {
      "text/plain": [
       "[{'created_at': 'Wed Apr 26 13:30:45 +0000 2017',\n",
       "  'id': 857225437122097152,\n",
       "  'id_str': '857225437122097152',\n",
       "  'text': 'Je comprends pas trop la fin de 13 reasons why 😓',\n",
       "  'source': '<a href=\"http://twitter.com/download/iphone\" rel=\"nofollow\">Twitter for iPhone</a>',\n",
       "  'truncated': False,\n",
       "  'in_reply_to_status_id': None,\n",
       "  'in_reply_to_status_id_str': None,\n",
       "  'in_reply_to_user_id': None,\n",
       "  'in_reply_to_user_id_str': None,\n",
       "  'in_reply_to_screen_name': None,\n",
       "  'user': {'id': 3137428743,\n",
       "   'id_str': '3137428743',\n",
       "   'name': 'TAÏNA♡',\n",
       "   'screen_name': 'tainabmn',\n",
       "   'location': None,\n",
       "   'url': None,\n",
       "   'description': None,\n",
       "   'protected': False,\n",
       "   'verified': False,\n",
       "   'followers_count': 318,\n",
       "   'friends_count': 406,\n",
       "   'listed_count': 2,\n",
       "   'favourites_count': 777,\n",
       "   'statuses_count': 3251,\n",
       "   'created_at': 'Sun Apr 05 16:03:00 +0000 2015',\n",
       "   'utc_offset': None,\n",
       "   'time_zone': None,\n",
       "   'geo_enabled': True,\n",
       "   'lang': 'fr',\n",
       "   'contributors_enabled': False,\n",
       "   'is_translator': False,\n",
       "   'profile_background_color': 'C0DEED',\n",
       "   'profile_background_image_url': 'http://abs.twimg.com/images/themes/theme1/bg.png',\n",
       "   'profile_background_image_url_https': 'https://abs.twimg.com/images/themes/theme1/bg.png',\n",
       "   'profile_background_tile': False,\n",
       "   'profile_link_color': '1DA1F2',\n",
       "   'profile_sidebar_border_color': 'C0DEED',\n",
       "   'profile_sidebar_fill_color': 'DDEEF6',\n",
       "   'profile_text_color': '333333',\n",
       "   'profile_use_background_image': True,\n",
       "   'profile_image_url': 'http://pbs.twimg.com/profile_images/857204115981697024/XcetMiHe_normal.jpg',\n",
       "   'profile_image_url_https': 'https://pbs.twimg.com/profile_images/857204115981697024/XcetMiHe_normal.jpg',\n",
       "   'profile_banner_url': 'https://pbs.twimg.com/profile_banners/3137428743/1492766586',\n",
       "   'default_profile': True,\n",
       "   'default_profile_image': False,\n",
       "   'following': None,\n",
       "   'follow_request_sent': None,\n",
       "   'notifications': None},\n",
       "  'geo': None,\n",
       "  'coordinates': None,\n",
       "  'place': {'id': '4da693e9b39923ab',\n",
       "   'url': 'https://api.twitter.com/1.1/geo/id/4da693e9b39923ab.json',\n",
       "   'place_type': 'city',\n",
       "   'name': 'Dozulé',\n",
       "   'full_name': 'Dozulé, France',\n",
       "   'country_code': 'FR',\n",
       "   'country': 'France',\n",
       "   'bounding_box': {'type': 'Polygon',\n",
       "    'coordinates': [[[-0.061141, 49.208997],\n",
       "      [-0.061141, 49.250115],\n",
       "      [-0.032199, 49.250115],\n",
       "      [-0.032199, 49.208997]]]},\n",
       "   'attributes': {}},\n",
       "  'contributors': None,\n",
       "  'is_quote_status': False,\n",
       "  'retweet_count': 0,\n",
       "  'favorite_count': 0,\n",
       "  'entities': {'hashtags': [], 'urls': [], 'user_mentions': [], 'symbols': []},\n",
       "  'favorited': False,\n",
       "  'retweeted': False,\n",
       "  'filter_level': 'low',\n",
       "  'lang': 'fr',\n",
       "  'timestamp_ms': '1493213445345'}]"
      ]
     },
     "execution_count": 27,
     "metadata": {},
     "output_type": "execute_result"
    }
   ],
   "source": [
    "tweets_rdd = (sc.textFile('data/french_tweets.json').map(lambda x: failsafe_decode(x)))\n",
    "tweets_rdd.take(1)"
   ]
  },
  {
   "cell_type": "code",
   "execution_count": 28,
   "metadata": {},
   "outputs": [
    {
     "data": {
      "text/plain": [
       "216912"
      ]
     },
     "execution_count": 28,
     "metadata": {},
     "output_type": "execute_result"
    }
   ],
   "source": [
    "tweets_rdd.count()"
   ]
  },
  {
   "cell_type": "code",
   "execution_count": 30,
   "metadata": {},
   "outputs": [
    {
     "data": {
      "text/plain": [
       "216912"
      ]
     },
     "execution_count": 30,
     "metadata": {},
     "output_type": "execute_result"
    }
   ],
   "source": [
    "tweets_rdd.filter(lambda x: x!=None).cache()\n",
    "tweets_rdd.count()"
   ]
  },
  {
   "cell_type": "code",
   "execution_count": 36,
   "metadata": {},
   "outputs": [
    {
     "data": {
      "text/plain": [
       "['AllEyezOnIt',\n",
       " 'Neochrome',\n",
       " 'Eriah',\n",
       " 'Loin',\n",
       " 'Youtube',\n",
       " 'YoutubeNeochrome',\n",
       " 'RepDom',\n",
       " 'RNCMobile',\n",
       " 'whirlpool',\n",
       " 'Run4Water']"
      ]
     },
     "execution_count": 36,
     "metadata": {},
     "output_type": "execute_result"
    }
   ],
   "source": [
    "hashtags = (tweets_rdd.flatMap(lambda row: row['entities']['hashtags'])\n",
    "                  .filter(lambda empty: empty != [])\n",
    "                    .map(lambda text: text['text'])\n",
    "                  )\n",
    "\n",
    "hashtags.take(10)"
   ]
  },
  {
   "cell_type": "code",
   "execution_count": 43,
   "metadata": {},
   "outputs": [],
   "source": [
    "# influencers = tweets_rdd.groupBy(['user'])\n",
    "# influencers.take(5)"
   ]
  },
  {
   "cell_type": "code",
   "execution_count": null,
   "metadata": {},
   "outputs": [],
   "source": []
  }
 ],
 "metadata": {
  "kernelspec": {
   "display_name": "Python 3",
   "language": "python",
   "name": "python3"
  },
  "language_info": {
   "codemirror_mode": {
    "name": "ipython",
    "version": 3
   },
   "file_extension": ".py",
   "mimetype": "text/x-python",
   "name": "python",
   "nbconvert_exporter": "python",
   "pygments_lexer": "ipython3",
   "version": "3.8.3"
  }
 },
 "nbformat": 4,
 "nbformat_minor": 4
}
